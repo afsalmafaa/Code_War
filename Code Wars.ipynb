{
 "cells": [
  {
   "cell_type": "markdown",
   "id": "5aee31ae",
   "metadata": {},
   "source": [
    "## Question 1 →"
   ]
  },
  {
   "cell_type": "code",
   "execution_count": 16,
   "id": "0fc21a31",
   "metadata": {},
   "outputs": [
    {
     "name": "stdout",
     "output_type": "stream",
     "text": [
      "153 is an Armstrong numbersince 13 + 53 + 33 = 153.Hence answer is: Yes\n",
      "370 is an Armstrong numbersince 33 + 73 + 03 = 370.Hence answer is: Yes\n"
     ]
    }
   ],
   "source": [
    "def armstrongNumber(n):\n",
    "    original_n = n \n",
    "    armstrong_sum = 0\n",
    "    \n",
    "    while n >0:\n",
    "        digit = n % 10\n",
    "        armstrong_sum += digit ** 3\n",
    "        n //= 10\n",
    "        \n",
    "    if armstrong_sum == original_n:\n",
    "        return \"Yes\"\n",
    "    else:\n",
    "        return \"No\"\n",
    "    \n",
    "print(\"153 is an Armstrong numbersince 13 + 53 + 33 = 153.Hence answer is:\",armstrongNumber(153))\n",
    "print(\"370 is an Armstrong numbersince 33 + 73 + 03 = 370.Hence answer is:\",armstrongNumber(370))"
   ]
  },
  {
   "cell_type": "markdown",
   "id": "7b382da5",
   "metadata": {},
   "source": [
    "## Question 2 →"
   ]
  },
  {
   "cell_type": "code",
   "execution_count": 13,
   "id": "1ed0ca26",
   "metadata": {},
   "outputs": [
    {
     "name": "stdout",
     "output_type": "stream",
     "text": [
      "There is no repeating element in the array. Therefore output is: [-1]\n",
      "occur more than once in the given array: [2, 3]\n"
     ]
    }
   ],
   "source": [
    "def duplicates(a,n):\n",
    "    result = []\n",
    "    \n",
    "    for i in range(n):\n",
    "        index = a[i] % n\n",
    "        a[index] += n\n",
    "        \n",
    "    for i in range(n):\n",
    "        if (a[i] // n) > 1:\n",
    "            result.append(i)\n",
    "            \n",
    "    if not result:\n",
    "        result.append(-1)\n",
    "        \n",
    "    return result\n",
    "\n",
    "print(\"There is no repeating element in the array. Therefore output is:\",duplicates([0,3,1,2],4))\n",
    "print(\"occur more than once in the given array:\",duplicates([2,3,1,2,3],5))"
   ]
  },
  {
   "cell_type": "markdown",
   "id": "77412043",
   "metadata": {},
   "source": [
    "## Question 3 →"
   ]
  },
  {
   "cell_type": "code",
   "execution_count": 6,
   "id": "5eda06ac",
   "metadata": {},
   "outputs": [
    {
     "name": "stdout",
     "output_type": "stream",
     "text": [
      "Linked List:\n",
      "1 2 3 4 5 6 \n",
      "After reversing the List, elements are:\n",
      "6 5 4 3 2 1 \n",
      "Linked List:\n",
      "2 7 8 9 10 \n",
      "After reversing the List, elements are:\n",
      "10 9 8 7 2 \n"
     ]
    }
   ],
   "source": [
    "class ListNode:\n",
    "    def __init__(self, val=0, next=None):\n",
    "        self.val = val\n",
    "        self.next = next\n",
    "        \n",
    "def reverseList(head):\n",
    "    previous = None\n",
    "    current = head\n",
    "    \n",
    "    while current:\n",
    "        next_node = current.next\n",
    "        current.next = previous\n",
    "        previous = current\n",
    "        current = next_node\n",
    "        \n",
    "    return previous\n",
    "\n",
    "def printLinkedList(head):\n",
    "    current = head\n",
    "    while current:\n",
    "        print(current.val, end=\" \")\n",
    "        current = current.next\n",
    "    print()\n",
    "    \n",
    "# Linked List: 1->2->3->4->5->6\n",
    "\n",
    "head1 = ListNode(1, ListNode(2, ListNode(3, ListNode(4, ListNode(5, ListNode(6))))))\n",
    "print(\"Linked List:\")\n",
    "printLinkedList(head1)\n",
    "\n",
    "reversed_head1 = reverseList(head1)\n",
    "print(\"After reversing the List, elements are:\")\n",
    "printLinkedList(reversed_head1)\n",
    "\n",
    "# Linked List: 2->7->8->9->10\n",
    "\n",
    "head2 = ListNode(2, ListNode(7, ListNode(8, ListNode(9, ListNode(10)))))\n",
    "print(\"Linked List:\")\n",
    "printLinkedList(head2)\n",
    "\n",
    "reversed_head2 = reverseList(head2)\n",
    "print(\"After reversing the List, elements are:\")\n",
    "printLinkedList(reversed_head2)"
   ]
  }
 ],
 "metadata": {
  "kernelspec": {
   "display_name": "Python 3 (ipykernel)",
   "language": "python",
   "name": "python3"
  },
  "language_info": {
   "codemirror_mode": {
    "name": "ipython",
    "version": 3
   },
   "file_extension": ".py",
   "mimetype": "text/x-python",
   "name": "python",
   "nbconvert_exporter": "python",
   "pygments_lexer": "ipython3",
   "version": "3.10.9"
  }
 },
 "nbformat": 4,
 "nbformat_minor": 5
}
